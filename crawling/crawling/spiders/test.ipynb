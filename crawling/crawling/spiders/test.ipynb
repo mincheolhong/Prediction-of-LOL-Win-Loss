{
 "cells": [
  {
   "cell_type": "code",
   "execution_count": null,
   "metadata": {},
   "outputs": [],
   "source": [
    "import scrapy"
   ]
  },
  {
   "cell_type": "code",
   "execution_count": null,
   "metadata": {},
   "outputs": [],
   "source": [
    "def get_res(url):\n",
    "    return scrapy.Request(url=url)"
   ]
  },
  {
   "cell_type": "code",
   "execution_count": null,
   "metadata": {},
   "outputs": [],
   "source": [
    "foo = get_res('https://www.op.gg/leaderboards/tier?page=5000')\n"
   ]
  },
  {
   "cell_type": "code",
   "execution_count": null,
   "metadata": {},
   "outputs": [],
   "source": [
    "print(foo._get_body(), 'asdasdasdsa')"
   ]
  }
 ],
 "metadata": {
  "kernelspec": {
   "display_name": "Python 3.9.13 64-bit",
   "language": "python",
   "name": "python3"
  },
  "language_info": {
   "name": "python",
   "version": "3.9.13"
  },
  "orig_nbformat": 4,
  "vscode": {
   "interpreter": {
    "hash": "dac091bb5b342de98b71cf26255a457b3a5f92314a6f5f9294325a4a5e8c909d"
   }
  }
 },
 "nbformat": 4,
 "nbformat_minor": 2
}
